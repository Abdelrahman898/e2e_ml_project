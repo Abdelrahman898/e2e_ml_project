{
 "cells": [
  {
   "cell_type": "code",
   "execution_count": 1,
   "metadata": {},
   "outputs": [],
   "source": [
    "DF_PATH = \"../data/processed/03_X_train_scaled_df.pkl\"\n",
    "DF_PATH1 = \"../data/processed/04_X_val_scaled_df.pkl\"\n",
    "DF_PATH2 = \"../data/processed/05_y_train_df.pkl\"\n",
    "DF_PATH3 = \"../data/processed/06_y_val_df.pkl\"\n",
    "DF_PATH4 = \"../data/processed/07_test_df.pkl\"\n",
    "DF_PATH5 = \"../data/processed/08_test_scaled_df.pkl\"\n"
   ]
  },
  {
   "cell_type": "code",
   "execution_count": 2,
   "metadata": {},
   "outputs": [],
   "source": [
    "# import libraries\n",
    "import pandas as pd\n",
    "import numpy as np\n",
    "import matplotlib.pyplot as plt\n",
    "import seaborn as sns\n",
    "import pickle\n",
    "from sklearn.metrics import mean_squared_error, mean_absolute_error\n",
    "from sklearn.linear_model import LinearRegression\n",
    "from sklearn.ensemble import RandomForestRegressor\n"
   ]
  },
  {
   "cell_type": "code",
   "execution_count": 3,
   "metadata": {},
   "outputs": [
    {
     "name": "stdout",
     "output_type": "stream",
     "text": [
      "(11208, 16) (2803, 16) (11208,) (2803,) (3503, 16)\n"
     ]
    }
   ],
   "source": [
    "# load data\n",
    "X_train = pd.read_pickle(DF_PATH)\n",
    "X_val = pd.read_pickle(DF_PATH1)\n",
    "y_train = pd.read_pickle(DF_PATH2)\n",
    "y_val = pd.read_pickle(DF_PATH3)\n",
    "test = pd.read_pickle(DF_PATH5)\n",
    "\n",
    "\n",
    "print(X_train.shape, X_val.shape, y_train.shape, y_val.shape, test.shape)"
   ]
  },
  {
   "attachments": {},
   "cell_type": "markdown",
   "metadata": {},
   "source": [
    "--------"
   ]
  },
  {
   "attachments": {},
   "cell_type": "markdown",
   "metadata": {},
   "source": [
    "## Building models"
   ]
  },
  {
   "attachments": {},
   "cell_type": "markdown",
   "metadata": {},
   "source": [
    "### Linear Regression"
   ]
  },
  {
   "cell_type": "code",
   "execution_count": 5,
   "metadata": {},
   "outputs": [],
   "source": [
    "linear_model = LinearRegression()\n",
    "\n",
    "# fit the model\n",
    "model_fit = linear_model.fit(X_train, y_train)\n",
    "# make predictions\n",
    "predict = model_fit.predict(X_val)"
   ]
  },
  {
   "cell_type": "code",
   "execution_count": 6,
   "metadata": {},
   "outputs": [],
   "source": [
    "def rmse(y_true, y_pred):\n",
    "    return np.sqrt(mean_squared_error(y_true, y_pred))"
   ]
  },
  {
   "cell_type": "code",
   "execution_count": 7,
   "metadata": {},
   "outputs": [
    {
     "name": "stdout",
     "output_type": "stream",
     "text": [
      "RMSE for Linear Regression: 60691.66047082536\n"
     ]
    }
   ],
   "source": [
    "print(f\"RMSE for Linear Regression: {rmse(y_val, predict)}\")"
   ]
  },
  {
   "attachments": {},
   "cell_type": "markdown",
   "metadata": {},
   "source": [
    "as we see there is underfitting in our model, let's try a Random Forest Regressor"
   ]
  },
  {
   "attachments": {},
   "cell_type": "markdown",
   "metadata": {},
   "source": [
    "## Random Forest"
   ]
  },
  {
   "cell_type": "code",
   "execution_count": 8,
   "metadata": {},
   "outputs": [],
   "source": [
    "random_forest_model = RandomForestRegressor()\n",
    "\n",
    "# fit the model\n",
    "model_fit = random_forest_model.fit(X_train, y_train)\n",
    "# make predictions\n",
    "predict = model_fit.predict(X_val)"
   ]
  },
  {
   "cell_type": "code",
   "execution_count": 9,
   "metadata": {},
   "outputs": [
    {
     "name": "stdout",
     "output_type": "stream",
     "text": [
      "RMSE for Random Forest: 46186.31673688488\n"
     ]
    }
   ],
   "source": [
    "print(f\"RMSE for Random Forest: {rmse(y_val, predict)}\")"
   ]
  },
  {
   "attachments": {},
   "cell_type": "markdown",
   "metadata": {},
   "source": [
    "Evaluation Using Cross-Validation may be done and give nearly same results as we above split our trainiing data into train and validation sets.\n"
   ]
  },
  {
   "attachments": {},
   "cell_type": "markdown",
   "metadata": {},
   "source": [
    "--------"
   ]
  },
  {
   "cell_type": "code",
   "execution_count": null,
   "metadata": {},
   "outputs": [],
   "source": []
  }
 ],
 "metadata": {
  "kernelspec": {
   "display_name": ".venv",
   "language": "python",
   "name": "python3"
  },
  "language_info": {
   "codemirror_mode": {
    "name": "ipython",
    "version": 3
   },
   "file_extension": ".py",
   "mimetype": "text/x-python",
   "name": "python",
   "nbconvert_exporter": "python",
   "pygments_lexer": "ipython3",
   "version": "3.10.5"
  },
  "orig_nbformat": 4
 },
 "nbformat": 4,
 "nbformat_minor": 2
}
